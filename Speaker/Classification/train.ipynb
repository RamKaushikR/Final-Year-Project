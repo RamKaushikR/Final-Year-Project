{
 "cells": [
  {
   "cell_type": "code",
   "execution_count": 1,
   "metadata": {
    "colab": {
     "base_uri": "https://localhost:8080/"
    },
    "executionInfo": {
     "elapsed": 1022,
     "status": "ok",
     "timestamp": 1609327688631,
     "user": {
      "displayName": "Ramkaushik R",
      "photoUrl": "",
      "userId": "02460101304670078425"
     },
     "user_tz": -330
    },
    "id": "Iz6jK4Sbpn2q",
    "outputId": "ba874dcf-71b4-4e5b-eb8b-ded85945b33a"
   },
   "outputs": [
    {
     "name": "stdout",
     "output_type": "stream",
     "text": [
      "Drive already mounted at /content/gdrive; to attempt to forcibly remount, call drive.mount(\"/content/gdrive\", force_remount=True).\n"
     ]
    }
   ],
   "source": [
    "from google.colab import drive\n",
    "drive.mount('/content/gdrive')"
   ]
  },
  {
   "cell_type": "code",
   "execution_count": 2,
   "metadata": {
    "executionInfo": {
     "elapsed": 4032,
     "status": "ok",
     "timestamp": 1609327691667,
     "user": {
      "displayName": "Ramkaushik R",
      "photoUrl": "",
      "userId": "02460101304670078425"
     },
     "user_tz": -330
    },
    "id": "RW5MTccYsmNx"
   },
   "outputs": [],
   "source": [
    "import os\n",
    "os.chdir('/content/gdrive/My Drive/FYP/Speaker/Classification')\n",
    "os.environ['TF_CPP_MIN_LOG_LEVEL']= '3'\n",
    "\n",
    "import tensorflow as tf\n",
    "tf.autograph.set_verbosity(0)"
   ]
  },
  {
   "cell_type": "code",
   "execution_count": 3,
   "metadata": {
    "executionInfo": {
     "elapsed": 4805,
     "status": "ok",
     "timestamp": 1609327692458,
     "user": {
      "displayName": "Ramkaushik R",
      "photoUrl": "",
      "userId": "02460101304670078425"
     },
     "user_tz": -330
    },
    "id": "D9LiVA3MqDJN"
   },
   "outputs": [],
   "source": [
    "import pickle\n",
    "import numpy as np\n",
    "import matplotlib.pyplot as plt\n",
    "from model import createModel\n",
    "from sklearn.preprocessing import LabelEncoder\n",
    "from sklearn.model_selection import train_test_split\n",
    "from tensorflow.keras.utils import to_categorical\n",
    "from tensorflow.keras.callbacks import ModelCheckpoint\n",
    "from tensorflow.keras import backend as K"
   ]
  },
  {
   "cell_type": "code",
   "execution_count": 4,
   "metadata": {
    "executionInfo": {
     "elapsed": 4791,
     "status": "ok",
     "timestamp": 1609327692460,
     "user": {
      "displayName": "Ramkaushik R",
      "photoUrl": "",
      "userId": "02460101304670078425"
     },
     "user_tz": -330
    },
    "id": "y-plhgo6wUHl"
   },
   "outputs": [],
   "source": [
    "def getData(x, s, le):\n",
    "    X, y = [], []\n",
    "    speakers = list(s.keys())\n",
    "\n",
    "    for i in range(len(speakers)):\n",
    "        l, h = s[speakers[i]]\n",
    "        for j in range(0, h-l+1):\n",
    "            X_, y_ = abs(x[i][j]), le.transform([speakers[i]])\n",
    "            X_ = np.reshape(X_, (X_.shape[0], X_.shape[1], 1))\n",
    "            # y_ = to_categorical(y_, num_classes=100).reshape(-1)\n",
    "            X.append(X_)\n",
    "            y.append(y_)\n",
    "\n",
    "    return np.array(X), np.array(y)"
   ]
  },
  {
   "cell_type": "code",
   "execution_count": 5,
   "metadata": {
    "executionInfo": {
     "elapsed": 78600,
     "status": "ok",
     "timestamp": 1609327766287,
     "user": {
      "displayName": "Ramkaushik R",
      "photoUrl": "",
      "userId": "02460101304670078425"
     },
     "user_tz": -330
    },
    "id": "ARQRqUOJvhwe"
   },
   "outputs": [],
   "source": [
    "DATA_PATH = '../Data/Data/'\n",
    "with open(DATA_PATH + 'train.pickle', 'rb') as f:\n",
    "    x, s = pickle.load(f)"
   ]
  },
  {
   "cell_type": "code",
   "execution_count": 6,
   "metadata": {
    "colab": {
     "base_uri": "https://localhost:8080/"
    },
    "executionInfo": {
     "elapsed": 78603,
     "status": "ok",
     "timestamp": 1609327766306,
     "user": {
      "displayName": "Ramkaushik R",
      "photoUrl": "",
      "userId": "02460101304670078425"
     },
     "user_tz": -330
    },
    "id": "067RzyF3wSdU",
    "outputId": "ef400b94-70ff-4476-89ae-a971be26dea0"
   },
   "outputs": [
    {
     "data": {
      "text/plain": [
       "LabelEncoder()"
      ]
     },
     "execution_count": 6,
     "metadata": {
      "tags": []
     },
     "output_type": "execute_result"
    }
   ],
   "source": [
    "speakers = sorted(list(s.keys()))\n",
    "le = LabelEncoder()\n",
    "le.fit(speakers)"
   ]
  },
  {
   "cell_type": "code",
   "execution_count": 7,
   "metadata": {
    "executionInfo": {
     "elapsed": 85675,
     "status": "ok",
     "timestamp": 1609327773393,
     "user": {
      "displayName": "Ramkaushik R",
      "photoUrl": "",
      "userId": "02460101304670078425"
     },
     "user_tz": -330
    },
    "id": "xZYblP5JwOMc"
   },
   "outputs": [],
   "source": [
    "X, y = getData(x, s, le)\n",
    "del x, s"
   ]
  },
  {
   "cell_type": "code",
   "execution_count": 8,
   "metadata": {
    "executionInfo": {
     "elapsed": 88015,
     "status": "ok",
     "timestamp": 1609327775830,
     "user": {
      "displayName": "Ramkaushik R",
      "photoUrl": "",
      "userId": "02460101304670078425"
     },
     "user_tz": -330
    },
    "id": "Oxu5eahVxJXj"
   },
   "outputs": [],
   "source": [
    "X_train, X_val, y_train, y_val = train_test_split(X, y, test_size=0.3, shuffle=True)\n",
    "del X, y"
   ]
  },
  {
   "cell_type": "code",
   "execution_count": 9,
   "metadata": {
    "executionInfo": {
     "elapsed": 86829,
     "status": "ok",
     "timestamp": 1609327775844,
     "user": {
      "displayName": "Ramkaushik R",
      "photoUrl": "",
      "userId": "02460101304670078425"
     },
     "user_tz": -330
    },
    "id": "uQPevzJTxPBp"
   },
   "outputs": [],
   "source": [
    "EPOCHS = 20\n",
    "BATCH_SIZE = 256"
   ]
  },
  {
   "cell_type": "code",
   "execution_count": 10,
   "metadata": {
    "colab": {
     "base_uri": "https://localhost:8080/"
    },
    "executionInfo": {
     "elapsed": 99193,
     "status": "ok",
     "timestamp": 1609327338886,
     "user": {
      "displayName": "Ramkaushik R",
      "photoUrl": "",
      "userId": "02460101304670078425"
     },
     "user_tz": -330
    },
    "id": "B56gVZqA0SMj",
    "outputId": "074c228d-6edd-42e7-b5f6-781f0b948187"
   },
   "outputs": [
    {
     "name": "stdout",
     "output_type": "stream",
     "text": [
      "Model: \"conv_2d\"\n",
      "_________________________________________________________________\n",
      "Layer (type)                 Output Shape              Param #   \n",
      "=================================================================\n",
      "input_1 (InputLayer)         [(None, 300, 128, 1)]     0         \n",
      "_________________________________________________________________\n",
      "sequential (Sequential)      (None, 2016)              27912     \n",
      "_________________________________________________________________\n",
      "dense_1 (Dense)              (None, 1024)              2065408   \n",
      "_________________________________________________________________\n",
      "dense_2 (Dense)              (None, 512)               524800    \n",
      "_________________________________________________________________\n",
      "dropout (Dropout)            (None, 512)               0         \n",
      "_________________________________________________________________\n",
      "dense_3 (Dense)              (None, 256)               131328    \n",
      "_________________________________________________________________\n",
      "output (Dense)               (None, 100)               25700     \n",
      "=================================================================\n",
      "Total params: 2,775,148\n",
      "Trainable params: 2,775,148\n",
      "Non-trainable params: 0\n",
      "_________________________________________________________________\n"
     ]
    }
   ],
   "source": [
    "model = createModel(input_shape=(300, 128, 1), name='conv_2d')\n",
    "model.summary()"
   ]
  },
  {
   "cell_type": "code",
   "execution_count": 11,
   "metadata": {
    "colab": {
     "base_uri": "https://localhost:8080/"
    },
    "executionInfo": {
     "elapsed": 285473,
     "status": "ok",
     "timestamp": 1609327525180,
     "user": {
      "displayName": "Ramkaushik R",
      "photoUrl": "",
      "userId": "02460101304670078425"
     },
     "user_tz": -330
    },
    "id": "RW4WjIse0SMp",
    "outputId": "74ef4790-0b21-49b0-ddff-b335d4aef0df"
   },
   "outputs": [
    {
     "name": "stdout",
     "output_type": "stream",
     "text": [
      "WARNING:tensorflow:`period` argument is deprecated. Please use `save_freq` to specify the frequency in number of batches seen.\n",
      "Epoch 1/20\n",
      "55/55 [==============================] - 18s 177ms/step - loss: 4.6480 - accuracy: 0.0123 - val_loss: 4.6033 - val_accuracy: 0.0121\n",
      "Epoch 2/20\n",
      "55/55 [==============================] - 9s 160ms/step - loss: 4.5936 - accuracy: 0.0124 - val_loss: 4.5508 - val_accuracy: 0.0183\n",
      "Epoch 3/20\n",
      "55/55 [==============================] - 9s 159ms/step - loss: 4.3455 - accuracy: 0.0227 - val_loss: 3.8990 - val_accuracy: 0.0552\n",
      "Epoch 4/20\n",
      "55/55 [==============================] - 9s 159ms/step - loss: 3.8315 - accuracy: 0.0617 - val_loss: 3.4344 - val_accuracy: 0.1207\n",
      "Epoch 5/20\n",
      "55/55 [==============================] - 9s 159ms/step - loss: 3.3387 - accuracy: 0.1346 - val_loss: 2.8960 - val_accuracy: 0.2204\n",
      "Epoch 6/20\n",
      "55/55 [==============================] - 9s 159ms/step - loss: 2.8741 - accuracy: 0.2355 - val_loss: 2.3810 - val_accuracy: 0.3426\n",
      "Epoch 7/20\n",
      "55/55 [==============================] - 9s 159ms/step - loss: 2.2415 - accuracy: 0.3725 - val_loss: 2.1572 - val_accuracy: 0.3943\n",
      "Epoch 8/20\n",
      "55/55 [==============================] - 9s 158ms/step - loss: 1.8283 - accuracy: 0.4626 - val_loss: 1.6072 - val_accuracy: 0.5426\n",
      "Epoch 9/20\n",
      "55/55 [==============================] - 9s 160ms/step - loss: 1.3789 - accuracy: 0.5936 - val_loss: 1.3315 - val_accuracy: 0.6098\n",
      "Epoch 10/20\n",
      "55/55 [==============================] - 9s 159ms/step - loss: 1.1073 - accuracy: 0.6674 - val_loss: 1.2309 - val_accuracy: 0.6356\n",
      "Epoch 11/20\n",
      "55/55 [==============================] - 9s 161ms/step - loss: 0.8925 - accuracy: 0.7230 - val_loss: 1.0139 - val_accuracy: 0.7059\n",
      "Epoch 12/20\n",
      "55/55 [==============================] - 9s 161ms/step - loss: 0.6536 - accuracy: 0.7952 - val_loss: 0.9377 - val_accuracy: 0.7264\n",
      "Epoch 13/20\n",
      "55/55 [==============================] - 9s 163ms/step - loss: 0.5223 - accuracy: 0.8345 - val_loss: 0.9236 - val_accuracy: 0.7377\n",
      "Epoch 14/20\n",
      "55/55 [==============================] - 9s 159ms/step - loss: 0.4033 - accuracy: 0.8728 - val_loss: 0.8706 - val_accuracy: 0.7561\n",
      "Epoch 15/20\n",
      "55/55 [==============================] - 9s 158ms/step - loss: 0.3604 - accuracy: 0.8837 - val_loss: 0.8500 - val_accuracy: 0.7610\n",
      "Epoch 16/20\n",
      "55/55 [==============================] - 9s 160ms/step - loss: 0.2586 - accuracy: 0.9175 - val_loss: 0.8617 - val_accuracy: 0.7607\n",
      "Epoch 17/20\n",
      "55/55 [==============================] - 9s 161ms/step - loss: 0.2558 - accuracy: 0.9151 - val_loss: 0.8166 - val_accuracy: 0.7778\n",
      "Epoch 18/20\n",
      "55/55 [==============================] - 9s 159ms/step - loss: 0.1742 - accuracy: 0.9447 - val_loss: 0.9261 - val_accuracy: 0.7622\n",
      "Epoch 19/20\n",
      "55/55 [==============================] - 9s 161ms/step - loss: 0.1722 - accuracy: 0.9444 - val_loss: 0.9254 - val_accuracy: 0.7803\n",
      "Epoch 20/20\n",
      "55/55 [==============================] - 9s 158ms/step - loss: 0.1479 - accuracy: 0.9557 - val_loss: 0.9300 - val_accuracy: 0.7823\n"
     ]
    }
   ],
   "source": [
    "checkpoint = ModelCheckpoint('Model/Conv_2D/conv2d_{epoch:02d}.h5', save_weights_only=True, period=10)\n",
    "history = model.fit(x=X_train, y=y_train, batch_size=BATCH_SIZE, epochs=EPOCHS, validation_data=(X_val, y_val), callbacks=[checkpoint])"
   ]
  },
  {
   "cell_type": "code",
   "execution_count": 12,
   "metadata": {
    "executionInfo": {
     "elapsed": 285488,
     "status": "ok",
     "timestamp": 1609327525206,
     "user": {
      "displayName": "Ramkaushik R",
      "photoUrl": "",
      "userId": "02460101304670078425"
     },
     "user_tz": -330
    },
    "id": "YjhGZDnd0SMr"
   },
   "outputs": [],
   "source": [
    "with open('Model/Conv_2D/conv2d_history.pickle', 'wb') as f:\n",
    "    pickle.dump(history.history, f)"
   ]
  },
  {
   "cell_type": "code",
   "execution_count": 13,
   "metadata": {
    "executionInfo": {
     "elapsed": 285483,
     "status": "ok",
     "timestamp": 1609327525210,
     "user": {
      "displayName": "Ramkaushik R",
      "photoUrl": "",
      "userId": "02460101304670078425"
     },
     "user_tz": -330
    },
    "id": "OpE_RhR9mrb1"
   },
   "outputs": [],
   "source": [
    "model.get_layer('sequential').save_weights('Model/Conv_2D/conv2d_core.h5')"
   ]
  },
  {
   "cell_type": "code",
   "execution_count": 14,
   "metadata": {
    "executionInfo": {
     "elapsed": 285474,
     "status": "ok",
     "timestamp": 1609327525211,
     "user": {
      "displayName": "Ramkaushik R",
      "photoUrl": "",
      "userId": "02460101304670078425"
     },
     "user_tz": -330
    },
    "id": "52NwsqDxWOgP"
   },
   "outputs": [],
   "source": [
    "K.clear_session()"
   ]
  },
  {
   "cell_type": "code",
   "execution_count": 15,
   "metadata": {
    "colab": {
     "base_uri": "https://localhost:8080/"
    },
    "executionInfo": {
     "elapsed": 286589,
     "status": "ok",
     "timestamp": 1609327526336,
     "user": {
      "displayName": "Ramkaushik R",
      "photoUrl": "",
      "userId": "02460101304670078425"
     },
     "user_tz": -330
    },
    "id": "6pKmxZGd0Wa4",
    "outputId": "f8f1daff-8bbd-453e-83e5-3aa88b842716"
   },
   "outputs": [
    {
     "name": "stdout",
     "output_type": "stream",
     "text": [
      "Model: \"lstm\"\n",
      "_________________________________________________________________\n",
      "Layer (type)                 Output Shape              Param #   \n",
      "=================================================================\n",
      "input_1 (InputLayer)         [(None, 300, 128, 1)]     0         \n",
      "_________________________________________________________________\n",
      "sequential (Sequential)      (None, 9600)              37248     \n",
      "_________________________________________________________________\n",
      "dense_1 (Dense)              (None, 1024)              9831424   \n",
      "_________________________________________________________________\n",
      "dense_2 (Dense)              (None, 512)               524800    \n",
      "_________________________________________________________________\n",
      "dropout (Dropout)            (None, 512)               0         \n",
      "_________________________________________________________________\n",
      "dense_3 (Dense)              (None, 256)               131328    \n",
      "_________________________________________________________________\n",
      "output (Dense)               (None, 100)               25700     \n",
      "=================================================================\n",
      "Total params: 10,550,500\n",
      "Trainable params: 10,550,500\n",
      "Non-trainable params: 0\n",
      "_________________________________________________________________\n"
     ]
    }
   ],
   "source": [
    "model = createModel(input_shape=(300, 128, 1), name='lstm')\n",
    "model.summary()"
   ]
  },
  {
   "cell_type": "code",
   "execution_count": 16,
   "metadata": {
    "colab": {
     "base_uri": "https://localhost:8080/"
    },
    "executionInfo": {
     "elapsed": 395268,
     "status": "ok",
     "timestamp": 1609327635027,
     "user": {
      "displayName": "Ramkaushik R",
      "photoUrl": "",
      "userId": "02460101304670078425"
     },
     "user_tz": -330
    },
    "id": "5avpDrSk0Wa8",
    "outputId": "e33e3f06-b6a3-4948-c353-f48340e0faf7"
   },
   "outputs": [
    {
     "name": "stdout",
     "output_type": "stream",
     "text": [
      "WARNING:tensorflow:`period` argument is deprecated. Please use `save_freq` to specify the frequency in number of batches seen.\n",
      "Epoch 1/20\n",
      "55/55 [==============================] - 9s 108ms/step - loss: 4.5779 - accuracy: 0.0172 - val_loss: 4.0284 - val_accuracy: 0.0537\n",
      "Epoch 2/20\n",
      "55/55 [==============================] - 5s 95ms/step - loss: 3.8076 - accuracy: 0.0862 - val_loss: 3.1144 - val_accuracy: 0.1774\n",
      "Epoch 3/20\n",
      "55/55 [==============================] - 5s 94ms/step - loss: 2.8247 - accuracy: 0.2287 - val_loss: 2.2685 - val_accuracy: 0.3671\n",
      "Epoch 4/20\n",
      "55/55 [==============================] - 5s 94ms/step - loss: 1.8799 - accuracy: 0.4571 - val_loss: 1.2692 - val_accuracy: 0.6220\n",
      "Epoch 5/20\n",
      "55/55 [==============================] - 5s 95ms/step - loss: 1.2775 - accuracy: 0.6135 - val_loss: 1.1295 - val_accuracy: 0.6517\n",
      "Epoch 6/20\n",
      "55/55 [==============================] - 5s 95ms/step - loss: 0.8936 - accuracy: 0.7173 - val_loss: 0.7005 - val_accuracy: 0.7884\n",
      "Epoch 7/20\n",
      "55/55 [==============================] - 5s 94ms/step - loss: 0.6396 - accuracy: 0.7934 - val_loss: 0.7726 - val_accuracy: 0.7615\n",
      "Epoch 8/20\n",
      "55/55 [==============================] - 5s 95ms/step - loss: 0.5298 - accuracy: 0.8371 - val_loss: 0.6720 - val_accuracy: 0.7929\n",
      "Epoch 9/20\n",
      "55/55 [==============================] - 5s 96ms/step - loss: 0.4847 - accuracy: 0.8462 - val_loss: 0.5430 - val_accuracy: 0.8318\n",
      "Epoch 10/20\n",
      "55/55 [==============================] - 5s 95ms/step - loss: 0.3625 - accuracy: 0.8843 - val_loss: 0.5080 - val_accuracy: 0.8454\n",
      "Epoch 11/20\n",
      "55/55 [==============================] - 5s 95ms/step - loss: 0.2499 - accuracy: 0.9238 - val_loss: 0.4373 - val_accuracy: 0.8667\n",
      "Epoch 12/20\n",
      "55/55 [==============================] - 5s 95ms/step - loss: 0.2204 - accuracy: 0.9288 - val_loss: 0.3753 - val_accuracy: 0.8834\n",
      "Epoch 13/20\n",
      "55/55 [==============================] - 5s 93ms/step - loss: 0.1726 - accuracy: 0.9458 - val_loss: 0.4413 - val_accuracy: 0.8607\n",
      "Epoch 14/20\n",
      "55/55 [==============================] - 5s 96ms/step - loss: 0.2173 - accuracy: 0.9293 - val_loss: 0.3683 - val_accuracy: 0.8884\n",
      "Epoch 15/20\n",
      "55/55 [==============================] - 5s 94ms/step - loss: 0.1249 - accuracy: 0.9606 - val_loss: 0.3469 - val_accuracy: 0.8929\n",
      "Epoch 16/20\n",
      "55/55 [==============================] - 5s 96ms/step - loss: 0.0980 - accuracy: 0.9691 - val_loss: 0.4716 - val_accuracy: 0.8612\n",
      "Epoch 17/20\n",
      "55/55 [==============================] - 5s 95ms/step - loss: 0.1473 - accuracy: 0.9495 - val_loss: 0.3732 - val_accuracy: 0.8892\n",
      "Epoch 18/20\n",
      "55/55 [==============================] - 5s 95ms/step - loss: 0.0763 - accuracy: 0.9778 - val_loss: 0.4651 - val_accuracy: 0.8676\n",
      "Epoch 19/20\n",
      "55/55 [==============================] - 5s 94ms/step - loss: 0.1332 - accuracy: 0.9556 - val_loss: 0.3542 - val_accuracy: 0.8924\n",
      "Epoch 20/20\n",
      "55/55 [==============================] - 5s 95ms/step - loss: 0.0671 - accuracy: 0.9788 - val_loss: 0.3349 - val_accuracy: 0.8986\n"
     ]
    }
   ],
   "source": [
    "checkpoint = ModelCheckpoint('Model/LSTM/lstm_{epoch:02d}.h5', save_weights_only=True, period=10)\n",
    "history = model.fit(x=X_train, y=y_train, batch_size=BATCH_SIZE, epochs=EPOCHS, validation_data=(X_val, y_val), callbacks=[checkpoint])"
   ]
  },
  {
   "cell_type": "code",
   "execution_count": 17,
   "metadata": {
    "executionInfo": {
     "elapsed": 395628,
     "status": "ok",
     "timestamp": 1609327635393,
     "user": {
      "displayName": "Ramkaushik R",
      "photoUrl": "",
      "userId": "02460101304670078425"
     },
     "user_tz": -330
    },
    "id": "HM69j5DQ0WbA"
   },
   "outputs": [],
   "source": [
    "with open('Model/LSTM/lstm_history.pickle', 'wb') as f:\n",
    "    pickle.dump(history.history, f)"
   ]
  },
  {
   "cell_type": "code",
   "execution_count": 18,
   "metadata": {
    "executionInfo": {
     "elapsed": 396109,
     "status": "ok",
     "timestamp": 1609327635881,
     "user": {
      "displayName": "Ramkaushik R",
      "photoUrl": "",
      "userId": "02460101304670078425"
     },
     "user_tz": -330
    },
    "id": "-taAGHeRmtsx"
   },
   "outputs": [],
   "source": [
    "model.get_layer('sequential').save_weights('Model/LSTM/lstm_core.h5')"
   ]
  },
  {
   "cell_type": "code",
   "execution_count": 19,
   "metadata": {
    "executionInfo": {
     "elapsed": 396098,
     "status": "ok",
     "timestamp": 1609327635882,
     "user": {
      "displayName": "Ramkaushik R",
      "photoUrl": "",
      "userId": "02460101304670078425"
     },
     "user_tz": -330
    },
    "id": "PiF6DePuWuIr"
   },
   "outputs": [],
   "source": [
    "K.clear_session()"
   ]
  },
  {
   "cell_type": "code",
   "execution_count": 10,
   "metadata": {
    "colab": {
     "base_uri": "https://localhost:8080/"
    },
    "executionInfo": {
     "elapsed": 86243,
     "status": "ok",
     "timestamp": 1609327781848,
     "user": {
      "displayName": "Ramkaushik R",
      "photoUrl": "",
      "userId": "02460101304670078425"
     },
     "user_tz": -330
    },
    "id": "J70Rfvhgz1Ty",
    "outputId": "95b38bc5-3476-4468-b1d4-92dd1d358576"
   },
   "outputs": [
    {
     "name": "stdout",
     "output_type": "stream",
     "text": [
      "Model: \"conv_1d\"\n",
      "_________________________________________________________________\n",
      "Layer (type)                 Output Shape              Param #   \n",
      "=================================================================\n",
      "input_1 (InputLayer)         [(None, 300, 128, 1)]     0         \n",
      "_________________________________________________________________\n",
      "sequential (Sequential)      (None, 128)               43800     \n",
      "_________________________________________________________________\n",
      "dense_1 (Dense)              (None, 1024)              132096    \n",
      "_________________________________________________________________\n",
      "dense_2 (Dense)              (None, 512)               524800    \n",
      "_________________________________________________________________\n",
      "dropout (Dropout)            (None, 512)               0         \n",
      "_________________________________________________________________\n",
      "dense_3 (Dense)              (None, 256)               131328    \n",
      "_________________________________________________________________\n",
      "output (Dense)               (None, 100)               25700     \n",
      "=================================================================\n",
      "Total params: 857,724\n",
      "Trainable params: 857,724\n",
      "Non-trainable params: 0\n",
      "_________________________________________________________________\n"
     ]
    }
   ],
   "source": [
    "model = createModel(input_shape=(300, 128, 1), name='conv_1d')\n",
    "model.summary()"
   ]
  },
  {
   "cell_type": "code",
   "execution_count": 11,
   "metadata": {
    "colab": {
     "base_uri": "https://localhost:8080/"
    },
    "executionInfo": {
     "elapsed": 2111822,
     "status": "ok",
     "timestamp": 1609329808055,
     "user": {
      "displayName": "Ramkaushik R",
      "photoUrl": "",
      "userId": "02460101304670078425"
     },
     "user_tz": -330
    },
    "id": "moP8XHPBz8k_",
    "outputId": "fd9d3c17-c205-496d-d7ac-a115ce17881b"
   },
   "outputs": [
    {
     "name": "stdout",
     "output_type": "stream",
     "text": [
      "WARNING:tensorflow:`period` argument is deprecated. Please use `save_freq` to specify the frequency in number of batches seen.\n",
      "Epoch 1/20\n",
      "55/55 [==============================] - 113s 2s/step - loss: 4.6059 - accuracy: 0.0099 - val_loss: 4.2551 - val_accuracy: 0.0193\n",
      "Epoch 2/20\n",
      "55/55 [==============================] - 101s 2s/step - loss: 4.1853 - accuracy: 0.0251 - val_loss: 3.9820 - val_accuracy: 0.0582\n",
      "Epoch 3/20\n",
      "55/55 [==============================] - 101s 2s/step - loss: 3.8881 - accuracy: 0.0541 - val_loss: 3.5814 - val_accuracy: 0.0849\n",
      "Epoch 4/20\n",
      "55/55 [==============================] - 101s 2s/step - loss: 3.5631 - accuracy: 0.0913 - val_loss: 3.3081 - val_accuracy: 0.1341\n",
      "Epoch 5/20\n",
      "55/55 [==============================] - 101s 2s/step - loss: 3.2568 - accuracy: 0.1454 - val_loss: 2.9167 - val_accuracy: 0.2012\n",
      "Epoch 6/20\n",
      "55/55 [==============================] - 101s 2s/step - loss: 2.9178 - accuracy: 0.2023 - val_loss: 2.7189 - val_accuracy: 0.2575\n",
      "Epoch 7/20\n",
      "55/55 [==============================] - 101s 2s/step - loss: 2.6177 - accuracy: 0.2736 - val_loss: 2.4089 - val_accuracy: 0.3199\n",
      "Epoch 8/20\n",
      "55/55 [==============================] - 101s 2s/step - loss: 2.3627 - accuracy: 0.3231 - val_loss: 2.3216 - val_accuracy: 0.3382\n",
      "Epoch 9/20\n",
      "55/55 [==============================] - 101s 2s/step - loss: 2.2735 - accuracy: 0.3384 - val_loss: 2.0273 - val_accuracy: 0.4256\n",
      "Epoch 10/20\n",
      "55/55 [==============================] - 101s 2s/step - loss: 2.0662 - accuracy: 0.3959 - val_loss: 1.8983 - val_accuracy: 0.4466\n",
      "Epoch 11/20\n",
      "55/55 [==============================] - 101s 2s/step - loss: 1.8333 - accuracy: 0.4543 - val_loss: 1.8837 - val_accuracy: 0.4396\n",
      "Epoch 12/20\n",
      "55/55 [==============================] - 101s 2s/step - loss: 1.7600 - accuracy: 0.4737 - val_loss: 1.8222 - val_accuracy: 0.4678\n",
      "Epoch 13/20\n",
      "55/55 [==============================] - 101s 2s/step - loss: 1.6416 - accuracy: 0.5081 - val_loss: 1.4265 - val_accuracy: 0.5789\n",
      "Epoch 14/20\n",
      "55/55 [==============================] - 101s 2s/step - loss: 1.4611 - accuracy: 0.5544 - val_loss: 1.4054 - val_accuracy: 0.5740\n",
      "Epoch 15/20\n",
      "55/55 [==============================] - 101s 2s/step - loss: 1.3777 - accuracy: 0.5838 - val_loss: 1.2140 - val_accuracy: 0.6296\n",
      "Epoch 16/20\n",
      "55/55 [==============================] - 101s 2s/step - loss: 1.2437 - accuracy: 0.6157 - val_loss: 1.2713 - val_accuracy: 0.6108\n",
      "Epoch 17/20\n",
      "55/55 [==============================] - 101s 2s/step - loss: 1.1671 - accuracy: 0.6378 - val_loss: 1.0704 - val_accuracy: 0.6774\n",
      "Epoch 18/20\n",
      "55/55 [==============================] - 101s 2s/step - loss: 1.1218 - accuracy: 0.6500 - val_loss: 1.1539 - val_accuracy: 0.6480\n",
      "Epoch 19/20\n",
      "55/55 [==============================] - 101s 2s/step - loss: 1.0688 - accuracy: 0.6665 - val_loss: 1.0090 - val_accuracy: 0.6893\n",
      "Epoch 20/20\n",
      "55/55 [==============================] - 101s 2s/step - loss: 0.9707 - accuracy: 0.6991 - val_loss: 0.9978 - val_accuracy: 0.6907\n"
     ]
    }
   ],
   "source": [
    "checkpoint = ModelCheckpoint('Model/Conv_1D/conv1d_{epoch:02d}.h5', save_weights_only=True, period=10)\n",
    "history = model.fit(x=X_train, y=y_train, batch_size=BATCH_SIZE, epochs=EPOCHS, validation_data=(X_val, y_val), callbacks=[checkpoint])"
   ]
  },
  {
   "cell_type": "code",
   "execution_count": 12,
   "metadata": {
    "executionInfo": {
     "elapsed": 2111004,
     "status": "ok",
     "timestamp": 1609329808067,
     "user": {
      "displayName": "Ramkaushik R",
      "photoUrl": "",
      "userId": "02460101304670078425"
     },
     "user_tz": -330
    },
    "id": "tPXobb4a0wn4"
   },
   "outputs": [],
   "source": [
    "with open('Model/Conv_1D/conv1d_history.pickle', 'wb') as f:\n",
    "    pickle.dump(history.history, f)"
   ]
  },
  {
   "cell_type": "code",
   "execution_count": 13,
   "metadata": {
    "executionInfo": {
     "elapsed": 2110477,
     "status": "ok",
     "timestamp": 1609329808513,
     "user": {
      "displayName": "Ramkaushik R",
      "photoUrl": "",
      "userId": "02460101304670078425"
     },
     "user_tz": -330
    },
    "id": "VweqmLTjmH6j"
   },
   "outputs": [],
   "source": [
    "model.get_layer('sequential').save_weights('Model/Conv_1D/conv1d_core.h5')"
   ]
  }
 ],
 "metadata": {
  "accelerator": "GPU",
  "colab": {
   "authorship_tag": "ABX9TyO0Np9gkS4ZUTrVoh1xvW0B",
   "collapsed_sections": [],
   "name": "train.ipynb",
   "provenance": []
  },
  "kernelspec": {
   "display_name": "Python 3",
   "language": "python",
   "name": "python3"
  },
  "language_info": {
   "codemirror_mode": {
    "name": "ipython",
    "version": 3
   },
   "file_extension": ".py",
   "mimetype": "text/x-python",
   "name": "python",
   "nbconvert_exporter": "python",
   "pygments_lexer": "ipython3",
   "version": "3.8.5"
  }
 },
 "nbformat": 4,
 "nbformat_minor": 4
}
